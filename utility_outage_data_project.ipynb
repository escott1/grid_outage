{
 "cells": [
  {
   "cell_type": "code",
   "execution_count": 1,
   "metadata": {},
   "outputs": [
    {
     "name": "stderr",
     "output_type": "stream",
     "text": [
      "/usr/local/lib/python3.5/site-packages/statsmodels/compat/pandas.py:56: FutureWarning: The pandas.core.datetools module is deprecated and will be removed in a future version. Please use the pandas.tseries module instead.\n",
      "  from pandas.core import datetools\n"
     ]
    }
   ],
   "source": [
    "import pandas as pd\n",
    "import numpy as np\n",
    "import datetime\n",
    "import matplotlib.pyplot as plt\n",
    "import matplotlib.cm as cm\n",
    "import matplotlib as mpl\n",
    "from matplotlib.colors import Normalize\n",
    "import seaborn as sns\n",
    "import statsmodels.api as sm\n",
    "from sklearn import linear_model\n",
    "import requests\n",
    "from descartes import PolygonPatch\n",
    "\n",
    "%matplotlib inline"
   ]
  },
  {
   "cell_type": "markdown",
   "metadata": {},
   "source": [
    "# Utility Outage Analysis\n",
    "\n",
    "I stumbled across this article: http://insideenergy.org/2014/08/18/data-explore-15-years-of-power-outages/, which contained a dataset of utility outages over the past 15 years from 2000 - 2014. I came up with a few questions as a fun analyitcs exercise to answer, and used this an a chance to practice some data cleaning and visualization.\n",
    "\n",
    "## Questions to answer\n",
    "\n",
    "1. what is the most common outage event type\n",
    "2. where does the most common event happen (region)\n",
    "3. what was the shortest outage?\n",
    "4. what was the longest outage?\n",
    "5. what is the average number of customers affected during an outage?\n",
    "6. how long is the average outage?\n",
    "7. what utility has had the most outages?\n",
    "8. what utility has has the most affected customers?\n",
    "9. what region does this occur in?\n",
    "10. generate a map showing the utility outage events that occurred in 2016"
   ]
  },
  {
   "cell_type": "markdown",
   "metadata": {},
   "source": [
    "## Answers\n",
    "analysis and code are in the cells below\n",
    "\n",
    "\n",
    "1. <b> most common event type: </b> severe weather with 866 tagged instances, second is vandalism with 346\n",
    "* <b> where does most common event happen: </b> michigan with 79 reported events, second Virginia, third Pennsyl. On the opposite end, Wyoming, Arizona, Montana, Utah, New Mexico all had only 1 reported outage due to severe weather\n",
    "* <b> shortest outage: </b> shortest outage in the set is 1 hr, with 115 reported instances of this duration\n",
    "* <b> longest outage: </b> 131 days, 6 hours that affected Michigan and Iowa from June to Oct 2013. Was the result of suspected cyber attack and had an unknown number of affected customers\n",
    "* <b> average number of customers affected in outage: </b> 163,791 people\n",
    "* <b> average outage length: </b> 2 days, 6 hours and 35 mins\n",
    "* <b> most affected utility by number of outages: </b> ISO New England listed as most frequent respondent, does not go into utility level information with 47 instances. Next is Puerto Rico Electric Power Authority (45), PacifiCorp (44) and Southern Company (43). We would need a lot of data clean-up to get a more accurate picture, example PG&E would be more common but is listed as several different names. \n",
    "* <b> most affected utility by number of customers: </b> PG&E is still top in terms of affected people (8,031,860), Duke Energy Midwest is next with (6,224,793) and Southern Company taking the number 3 spot (5,998,908).\n",
    "* <b> most affected region: </b> RFC is the worst region (421 instances), followed by WECC (399) and SERC (265). From Wikipeadia: \"The RF region is situated within the Eastern Interconnection and covers territory stretching from the Eastern United States to the lower Great Lakes, including all or portions of New Jersey, Pennsylvania, Delaware, Maryland, Virginia, West Virginia, Ohio, Michigan, Kentucky, Tennessee, Indiana, Illinois, Wisconsin, and the District of Columbia.\" It actually makes sense this is highest outage region due to severe weather near the Great Lakes and east coast"
   ]
  },
  {
   "cell_type": "code",
   "execution_count": 22,
   "metadata": {},
   "outputs": [],
   "source": [
    "#you can download the outage data as csv from the Googledrive:\n",
    "#https://docs.google.com/spreadsheets/d/1AdxhulfM9jeqviIZihuODqk7HoS1kRUlM_afIKXAjXQ/edit\n",
    "file_name = 'grid_outage.csv' "
   ]
  },
  {
   "cell_type": "code",
   "execution_count": 23,
   "metadata": {},
   "outputs": [],
   "source": [
    "df = pd.read_csv(file_name)"
   ]
  },
  {
   "cell_type": "code",
   "execution_count": 24,
   "metadata": {},
   "outputs": [
    {
     "data": {
      "text/html": [
       "<div>\n",
       "<style>\n",
       "    .dataframe thead tr:only-child th {\n",
       "        text-align: right;\n",
       "    }\n",
       "\n",
       "    .dataframe thead th {\n",
       "        text-align: left;\n",
       "    }\n",
       "\n",
       "    .dataframe tbody tr th {\n",
       "        vertical-align: top;\n",
       "    }\n",
       "</style>\n",
       "<table border=\"1\" class=\"dataframe\">\n",
       "  <thead>\n",
       "    <tr style=\"text-align: right;\">\n",
       "      <th></th>\n",
       "      <th>Event Description</th>\n",
       "      <th>Year</th>\n",
       "      <th>Date Event Began</th>\n",
       "      <th>Time Event Began</th>\n",
       "      <th>Date of Restoration</th>\n",
       "      <th>Time of Restoration</th>\n",
       "      <th>Respondent</th>\n",
       "      <th>Geographic Areas</th>\n",
       "      <th>NERC Region</th>\n",
       "      <th>Demand Loss (MW)</th>\n",
       "      <th>Number of Customers Affected</th>\n",
       "      <th>Tags</th>\n",
       "    </tr>\n",
       "  </thead>\n",
       "  <tbody>\n",
       "    <tr>\n",
       "      <th>0</th>\n",
       "      <td>Severe Weather - Thunderstorms</td>\n",
       "      <td>2014</td>\n",
       "      <td>6/30/2014</td>\n",
       "      <td>8:00 PM</td>\n",
       "      <td>7/2/2014</td>\n",
       "      <td>6:30 PM</td>\n",
       "      <td>Exelon Corporation/ComEd</td>\n",
       "      <td>Illinois</td>\n",
       "      <td>RFC</td>\n",
       "      <td>Unknown</td>\n",
       "      <td>420,000</td>\n",
       "      <td>severe weather, thunderstorm</td>\n",
       "    </tr>\n",
       "    <tr>\n",
       "      <th>1</th>\n",
       "      <td>Severe Weather - Thunderstorms</td>\n",
       "      <td>2014</td>\n",
       "      <td>6/30/2014</td>\n",
       "      <td>11:20 PM</td>\n",
       "      <td>7/1/2014</td>\n",
       "      <td>5:00 PM</td>\n",
       "      <td>Northern Indiana Public Service Company</td>\n",
       "      <td>North Central Indiana</td>\n",
       "      <td>RFC</td>\n",
       "      <td>Unknown</td>\n",
       "      <td>127,000</td>\n",
       "      <td>severe weather, thunderstorm</td>\n",
       "    </tr>\n",
       "    <tr>\n",
       "      <th>2</th>\n",
       "      <td>Severe Weather - Thunderstorms</td>\n",
       "      <td>2014</td>\n",
       "      <td>6/30/2014</td>\n",
       "      <td>5:55 PM</td>\n",
       "      <td>7/1/2014</td>\n",
       "      <td>2:53 AM</td>\n",
       "      <td>We Energies</td>\n",
       "      <td>Southeast  Wisconsin</td>\n",
       "      <td>MRO</td>\n",
       "      <td>424</td>\n",
       "      <td>120,000</td>\n",
       "      <td>severe weather, thunderstorm</td>\n",
       "    </tr>\n",
       "    <tr>\n",
       "      <th>3</th>\n",
       "      <td>Fuel Supply Emergency - Coal</td>\n",
       "      <td>2014</td>\n",
       "      <td>6/27/2014</td>\n",
       "      <td>1:21 PM</td>\n",
       "      <td>Unknown</td>\n",
       "      <td>Unknown</td>\n",
       "      <td>We Energies</td>\n",
       "      <td>Wisconsin</td>\n",
       "      <td>MRO</td>\n",
       "      <td>Unknown</td>\n",
       "      <td>Unknown</td>\n",
       "      <td>fuel supply emergency, coal</td>\n",
       "    </tr>\n",
       "    <tr>\n",
       "      <th>4</th>\n",
       "      <td>Physical Attack - Vandalism</td>\n",
       "      <td>2014</td>\n",
       "      <td>6/24/2014</td>\n",
       "      <td>2:54 PM</td>\n",
       "      <td>6/24/2014</td>\n",
       "      <td>2:55 PM</td>\n",
       "      <td>Tennessee Valley Authority</td>\n",
       "      <td>Nashville, Tennessee</td>\n",
       "      <td>SERC</td>\n",
       "      <td>Unknown</td>\n",
       "      <td>Unknown</td>\n",
       "      <td>vandalism, physical</td>\n",
       "    </tr>\n",
       "  </tbody>\n",
       "</table>\n",
       "</div>"
      ],
      "text/plain": [
       "                Event Description  Year Date Event Began Time Event Began  \\\n",
       "0  Severe Weather - Thunderstorms  2014        6/30/2014          8:00 PM   \n",
       "1  Severe Weather - Thunderstorms  2014        6/30/2014         11:20 PM   \n",
       "2  Severe Weather - Thunderstorms  2014        6/30/2014          5:55 PM   \n",
       "3    Fuel Supply Emergency - Coal  2014        6/27/2014          1:21 PM   \n",
       "4     Physical Attack - Vandalism  2014        6/24/2014          2:54 PM   \n",
       "\n",
       "  Date of Restoration Time of Restoration  \\\n",
       "0            7/2/2014             6:30 PM   \n",
       "1            7/1/2014             5:00 PM   \n",
       "2            7/1/2014             2:53 AM   \n",
       "3             Unknown             Unknown   \n",
       "4           6/24/2014             2:55 PM   \n",
       "\n",
       "                                Respondent       Geographic Areas NERC Region  \\\n",
       "0                 Exelon Corporation/ComEd               Illinois         RFC   \n",
       "1  Northern Indiana Public Service Company  North Central Indiana         RFC   \n",
       "2                              We Energies   Southeast  Wisconsin         MRO   \n",
       "3                              We Energies              Wisconsin         MRO   \n",
       "4               Tennessee Valley Authority   Nashville, Tennessee        SERC   \n",
       "\n",
       "  Demand Loss (MW) Number of Customers Affected                          Tags  \n",
       "0          Unknown                      420,000  severe weather, thunderstorm  \n",
       "1          Unknown                      127,000  severe weather, thunderstorm  \n",
       "2              424                      120,000  severe weather, thunderstorm  \n",
       "3          Unknown                      Unknown   fuel supply emergency, coal  \n",
       "4          Unknown                      Unknown           vandalism, physical  "
      ]
     },
     "execution_count": 24,
     "metadata": {},
     "output_type": "execute_result"
    }
   ],
   "source": [
    "df.head()"
   ]
  },
  {
   "cell_type": "markdown",
   "metadata": {},
   "source": [
    "The utility outage dataset has a lot of variation in what we might assume are the same entries across almost every column. There are also a lot of entries missing in the date columns. \n",
    "\n",
    "Below I'm modifying the data in the columns to make it easier for analysis."
   ]
  },
  {
   "cell_type": "code",
   "execution_count": 25,
   "metadata": {},
   "outputs": [],
   "source": [
    "df['Date Event Began'] = [str(i).upper() for i in df['Date Event Began']]\n",
    "df['Date Event Began'] = ['1/1/1970' if i == 'NAN' else i for i in df['Date Event Began']]\n",
    "df['Date Event Began'] = ['1/1/1970' if i == 'UNKNOWN' else i for i in df['Date Event Began']]\n",
    "df['Date Event Began'] = ['1/1/1970' if i == 'ONGOING' else i for i in df['Date Event Began']]"
   ]
  },
  {
   "cell_type": "code",
   "execution_count": 26,
   "metadata": {},
   "outputs": [],
   "source": [
    "df['Time Event Began'] = [str(i).replace('.','').upper() for i in df['Time Event Began']]\n",
    "df['Time Event Began'] = [str(i).replace('NOON','PM').upper() for i in df['Time Event Began']]\n",
    "df['Time Event Began'] = ['12:00 PM' if i == 'NAN' else i for i in df['Time Event Began']]\n",
    "df['Time Event Began'] = ['12:00 AM' if i == 'MIDNIGHT' else i for i in df['Time Event Began']]\n",
    "df['Time Event Began'] = ['6:00 PM' if i == 'EVENING' else i for i in df['Time Event Began']]\n",
    "df['Time Event Began'] = ['12:00 PM' if i == 'ONGOING' else i for i in df['Time Event Began']]"
   ]
  },
  {
   "cell_type": "code",
   "execution_count": 27,
   "metadata": {},
   "outputs": [],
   "source": [
    "df['Date of Restoration'] = ['1/1/1970' if i == 'ONGOING' else i for i in df['Date of Restoration']]\n",
    "df['Date of Restoration'] = [str(i).upper() for i in df['Date of Restoration']]\n",
    "df['Date of Restoration'] = ['1/1/1970' if i == 'NAN' else i for i in df['Date of Restoration']]\n",
    "df['Date of Restoration'] = ['1/1/1970' if i == 'UNKNOWN' else i for i in df['Date of Restoration']]\n",
    "df['Date of Restoration'] = ['1/1/1970' if i == 'ONGOING' else i for i in df['Date of Restoration']]"
   ]
  },
  {
   "cell_type": "code",
   "execution_count": 28,
   "metadata": {},
   "outputs": [],
   "source": [
    "df['Time of Restoration'] = [str(i).replace('.','').upper() for i in df['Time of Restoration']]\n",
    "df['Time of Restoration'] = [str(i).replace('NOON','PM').upper() for i in df['Time of Restoration']]\n",
    "df['Time of Restoration'] = [str(i).replace('00A','00 AM').upper() for i in df['Time of Restoration']]\n",
    "df['Time of Restoration'] = ['12:00 PM' if i == 'NAN' else i for i in df['Time of Restoration']]\n",
    "df['Time of Restoration'] = ['12:00 PM' if i == 'UNKNOWN' else i for i in df['Time of Restoration']]\n",
    "df['Time of Restoration'] = ['12:00 PM' if i == 'ONGOING' else i for i in df['Time of Restoration']]"
   ]
  },
  {
   "cell_type": "code",
   "execution_count": 29,
   "metadata": {},
   "outputs": [],
   "source": [
    "df['TimeStart'] = df['Date Event Began']+' '+ df['Time Event Began']\n",
    "df['TimeEnd'] = df['Date of Restoration']+' '+ df['Time of Restoration']"
   ]
  },
  {
   "cell_type": "code",
   "execution_count": 30,
   "metadata": {
    "scrolled": true
   },
   "outputs": [],
   "source": [
    "newtime_list = []\n",
    "try:\n",
    "    for i in df.TimeStart:\n",
    "        if 'AM' not in i and 'PM' not in i:\n",
    "            i = i + ' PM' #OK becacuse there is only one site with this condition and it is PM\n",
    "        splitdate = i.split(' ')\n",
    "        date = splitdate[0]\n",
    "        hour = splitdate[1].split(':')[0]\n",
    "        indicator = splitdate[-1]\n",
    "        newtime = date + ' ' + hour + ':00' + ' ' + indicator\n",
    "        if len(newtime) > 18:\n",
    "            newtime = splitdate[0] + ' ' + splitdate[1].split(':')[0] + ':00 PM' #only one value with this condition\n",
    "        newtime_list.append(newtime)\n",
    "except:\n",
    "    pass"
   ]
  },
  {
   "cell_type": "code",
   "execution_count": 31,
   "metadata": {},
   "outputs": [],
   "source": [
    "df.TimeStart = pd.Series(newtime_list)\n",
    "df.TimeStart = pd.to_datetime(df.TimeStart)"
   ]
  },
  {
   "cell_type": "code",
   "execution_count": 32,
   "metadata": {},
   "outputs": [],
   "source": [
    "newtime_list = []\n",
    "try:\n",
    "    for i in df.TimeEnd:\n",
    "        #if 'AM' not in i and 'PM' not in i:\n",
    "        #    i = i + ' PM' #OK because there is only one site with this condition and it is PM\n",
    "        splitdate = i.split(' ')\n",
    "        date = splitdate[0]\n",
    "        hour = splitdate[1].split(':')[0]\n",
    "        if int(hour) > 12:\n",
    "            newtime = date + ' ' + hour + ':00'\n",
    "        elif int(hour) <= 12:\n",
    "            indicator = splitdate[-1]\n",
    "            newtime = date + ' ' + hour + ':00' + ' ' + indicator\n",
    "        if len(newtime) > 18:\n",
    "            newtime = splitdate[0] + ' ' + splitdate[1].split(':')[0] + ':00 PM' #only one value with this condition\n",
    "        newtime_list.append(newtime)\n",
    "except Exception as e:\n",
    "    pass"
   ]
  },
  {
   "cell_type": "code",
   "execution_count": 33,
   "metadata": {},
   "outputs": [],
   "source": [
    "df.TimeEnd = pd.Series(newtime_list)\n",
    "df.TimeEnd = pd.to_datetime(df.TimeEnd)"
   ]
  },
  {
   "cell_type": "markdown",
   "metadata": {},
   "source": [
    "setting the utility outage start time 1 day before end time for entries that had a missing start time value (an assumption I'm making)"
   ]
  },
  {
   "cell_type": "code",
   "execution_count": 34,
   "metadata": {},
   "outputs": [],
   "source": [
    "for i,j in enumerate(df.TimeStart):\n",
    "    if j.year == 1970:\n",
    "        df.TimeStart[i] = df.TimeEnd[i] - datetime.timedelta(days=1);"
   ]
  },
  {
   "cell_type": "markdown",
   "metadata": {},
   "source": [
    "setting the utility outage end time 1 day after start time for entires that had a missing end time (another assumption I'm making)"
   ]
  },
  {
   "cell_type": "code",
   "execution_count": 35,
   "metadata": {},
   "outputs": [
    {
     "name": "stderr",
     "output_type": "stream",
     "text": [
      "/usr/local/lib/python3.5/site-packages/ipykernel_launcher.py:3: SettingWithCopyWarning: \n",
      "A value is trying to be set on a copy of a slice from a DataFrame\n",
      "\n",
      "See the caveats in the documentation: http://pandas.pydata.org/pandas-docs/stable/indexing.html#indexing-view-versus-copy\n",
      "  This is separate from the ipykernel package so we can avoid doing imports until\n"
     ]
    }
   ],
   "source": [
    "for i,j in enumerate(df.TimeEnd):\n",
    "    if j.year == 1970:\n",
    "        df.TimeEnd[i] = df.TimeStart[i] + datetime.timedelta(days=1);"
   ]
  },
  {
   "cell_type": "code",
   "execution_count": 36,
   "metadata": {},
   "outputs": [],
   "source": [
    "df['TimeDelta'] = df.TimeEnd - df.TimeStart \n",
    "df['DayDiff'] = [i.days for i in df.TimeDelta]\n",
    "df['SecondDiff'] = [i.seconds for i in df.TimeDelta]"
   ]
  },
  {
   "cell_type": "markdown",
   "metadata": {},
   "source": [
    "need to remove days that have a negative day difference or second difference - most likely from user error when the data was entered"
   ]
  },
  {
   "cell_type": "code",
   "execution_count": 37,
   "metadata": {},
   "outputs": [
    {
     "name": "stdout",
     "output_type": "stream",
     "text": [
      "removed: 28\n"
     ]
    }
   ],
   "source": [
    "df_timefilt = df[(df.DayDiff >= 0) & (df.SecondDiff >= 0)]\n",
    "print('removed: {0}'.format(len(df) - len(df_timefilt)))"
   ]
  },
  {
   "cell_type": "markdown",
   "metadata": {},
   "source": [
    "need to remove outages that have a 0 day difference and 0 second difference"
   ]
  },
  {
   "cell_type": "code",
   "execution_count": 38,
   "metadata": {},
   "outputs": [
    {
     "name": "stdout",
     "output_type": "stream",
     "text": [
      "removed: 248\n"
     ]
    }
   ],
   "source": [
    "df_timefilt2 = df_timefilt[(df_timefilt.DayDiff != 0) | (df_timefilt.SecondDiff != 0)]\n",
    "print('removed: {0}'.format(len(df_timefilt) - len(df_timefilt2)))"
   ]
  },
  {
   "cell_type": "code",
   "execution_count": 39,
   "metadata": {},
   "outputs": [
    {
     "data": {
      "text/plain": [
       "0 days 01:00:00    115\n",
       "0 days 02:00:00     81\n",
       "0 days 03:00:00     65\n",
       "0 days 04:00:00     62\n",
       "1 days 00:00:00     53\n",
       "Name: TimeDelta, dtype: int64"
      ]
     },
     "execution_count": 39,
     "metadata": {},
     "output_type": "execute_result"
    }
   ],
   "source": [
    "df_timefilt2.sort_values('TimeDelta',ascending=True).TimeDelta.value_counts().head()"
   ]
  },
  {
   "cell_type": "code",
   "execution_count": 40,
   "metadata": {},
   "outputs": [
    {
     "name": "stdout",
     "output_type": "stream",
     "text": [
      "shortest outage: 0 days 01:00:00\n",
      "longest outage: 131 days 06:00:00\n",
      "average duration: 2 days 06:34:42.558139\n"
     ]
    }
   ],
   "source": [
    "print('shortest outage: {0}'.format(\n",
    "    df_timefilt2.sort_values('TimeDelta',ascending=True).TimeDelta.min()))\n",
    "\n",
    "print('longest outage: {0}'.format(\n",
    "    df_timefilt2.sort_values('TimeDelta',ascending=True).TimeDelta.max()))\n",
    "\n",
    "print('average duration: {0}'.format(df_timefilt2.TimeDelta.mean()))"
   ]
  },
  {
   "cell_type": "code",
   "execution_count": 41,
   "metadata": {},
   "outputs": [
    {
     "data": {
      "text/html": [
       "<div>\n",
       "<style>\n",
       "    .dataframe thead tr:only-child th {\n",
       "        text-align: right;\n",
       "    }\n",
       "\n",
       "    .dataframe thead th {\n",
       "        text-align: left;\n",
       "    }\n",
       "\n",
       "    .dataframe tbody tr th {\n",
       "        vertical-align: top;\n",
       "    }\n",
       "</style>\n",
       "<table border=\"1\" class=\"dataframe\">\n",
       "  <thead>\n",
       "    <tr style=\"text-align: right;\">\n",
       "      <th></th>\n",
       "      <th>Event Description</th>\n",
       "      <th>Year</th>\n",
       "      <th>Date Event Began</th>\n",
       "      <th>Time Event Began</th>\n",
       "      <th>Date of Restoration</th>\n",
       "      <th>Time of Restoration</th>\n",
       "      <th>Respondent</th>\n",
       "      <th>Geographic Areas</th>\n",
       "      <th>NERC Region</th>\n",
       "      <th>Demand Loss (MW)</th>\n",
       "      <th>Number of Customers Affected</th>\n",
       "      <th>Tags</th>\n",
       "      <th>TimeStart</th>\n",
       "      <th>TimeEnd</th>\n",
       "      <th>TimeDelta</th>\n",
       "      <th>DayDiff</th>\n",
       "      <th>SecondDiff</th>\n",
       "    </tr>\n",
       "  </thead>\n",
       "  <tbody>\n",
       "    <tr>\n",
       "      <th>223</th>\n",
       "      <td>Suspected Cyber Attack</td>\n",
       "      <td>2013</td>\n",
       "      <td>6/21/2013</td>\n",
       "      <td>8:31 AM</td>\n",
       "      <td>10/30/2013</td>\n",
       "      <td>2:09 PM</td>\n",
       "      <td>ITC Transmission</td>\n",
       "      <td>Michigan, Iowa</td>\n",
       "      <td>MRO</td>\n",
       "      <td>Unknown</td>\n",
       "      <td>Unknown</td>\n",
       "      <td>vandalism, cyber</td>\n",
       "      <td>2013-06-21 08:00:00</td>\n",
       "      <td>2013-10-30 14:00:00</td>\n",
       "      <td>131 days 06:00:00</td>\n",
       "      <td>131</td>\n",
       "      <td>21600</td>\n",
       "    </tr>\n",
       "    <tr>\n",
       "      <th>93</th>\n",
       "      <td>Fuel Supply Emergency - Coal</td>\n",
       "      <td>2014</td>\n",
       "      <td>1/24/2014</td>\n",
       "      <td>12:00 AM</td>\n",
       "      <td>4/9/2014</td>\n",
       "      <td>11:53 AM</td>\n",
       "      <td>We Energies</td>\n",
       "      <td>Wisconsin</td>\n",
       "      <td>RFC</td>\n",
       "      <td>Unknown</td>\n",
       "      <td>Unknown</td>\n",
       "      <td>fuel supply emergency, coal</td>\n",
       "      <td>2014-01-24 00:00:00</td>\n",
       "      <td>2014-04-09 11:00:00</td>\n",
       "      <td>75 days 11:00:00</td>\n",
       "      <td>75</td>\n",
       "      <td>39600</td>\n",
       "    </tr>\n",
       "    <tr>\n",
       "      <th>993</th>\n",
       "      <td>Transformer Faulted/Unit Tripped</td>\n",
       "      <td>2009</td>\n",
       "      <td>3/3/2009</td>\n",
       "      <td>6:48 AM</td>\n",
       "      <td>4/26/2009</td>\n",
       "      <td>6:05 AM</td>\n",
       "      <td>New Covert Generating Company, LLC</td>\n",
       "      <td>Southwest Michigan</td>\n",
       "      <td>RFC</td>\n",
       "      <td>378</td>\n",
       "      <td>NaN</td>\n",
       "      <td>equipment failure</td>\n",
       "      <td>2009-03-03 06:00:00</td>\n",
       "      <td>2009-04-26 06:00:00</td>\n",
       "      <td>54 days 00:00:00</td>\n",
       "      <td>54</td>\n",
       "      <td>0</td>\n",
       "    </tr>\n",
       "    <tr>\n",
       "      <th>74</th>\n",
       "      <td>Fuel Supply Emergency - Coal</td>\n",
       "      <td>2014</td>\n",
       "      <td>2/7/2014</td>\n",
       "      <td>7:00 AM</td>\n",
       "      <td>3/21/2014</td>\n",
       "      <td>8:00 AM</td>\n",
       "      <td>Somerset Operating Company, LLC</td>\n",
       "      <td>Niagara County New York</td>\n",
       "      <td>NPCC</td>\n",
       "      <td>675</td>\n",
       "      <td>Unknown</td>\n",
       "      <td>fuel supply emergency, coal</td>\n",
       "      <td>2014-02-07 07:00:00</td>\n",
       "      <td>2014-03-21 08:00:00</td>\n",
       "      <td>42 days 01:00:00</td>\n",
       "      <td>42</td>\n",
       "      <td>3600</td>\n",
       "    </tr>\n",
       "    <tr>\n",
       "      <th>1483</th>\n",
       "      <td>Fire/Substation Multiple Public Appeals</td>\n",
       "      <td>2004</td>\n",
       "      <td>7/6/2004</td>\n",
       "      <td>6:00 AM</td>\n",
       "      <td>8/9/2004</td>\n",
       "      <td>12:00 PM</td>\n",
       "      <td>Salt River Project</td>\n",
       "      <td>Metro Phoenix, Arizona</td>\n",
       "      <td>WECC</td>\n",
       "      <td>-</td>\n",
       "      <td>-</td>\n",
       "      <td>wild fire, public appeal</td>\n",
       "      <td>2004-07-06 06:00:00</td>\n",
       "      <td>2004-08-09 12:00:00</td>\n",
       "      <td>34 days 06:00:00</td>\n",
       "      <td>34</td>\n",
       "      <td>21600</td>\n",
       "    </tr>\n",
       "  </tbody>\n",
       "</table>\n",
       "</div>"
      ],
      "text/plain": [
       "                            Event Description  Year Date Event Began  \\\n",
       "223                    Suspected Cyber Attack  2013        6/21/2013   \n",
       "93               Fuel Supply Emergency - Coal  2014        1/24/2014   \n",
       "993          Transformer Faulted/Unit Tripped  2009         3/3/2009   \n",
       "74               Fuel Supply Emergency - Coal  2014         2/7/2014   \n",
       "1483  Fire/Substation Multiple Public Appeals  2004         7/6/2004   \n",
       "\n",
       "     Time Event Began Date of Restoration Time of Restoration  \\\n",
       "223           8:31 AM          10/30/2013             2:09 PM   \n",
       "93           12:00 AM            4/9/2014            11:53 AM   \n",
       "993           6:48 AM           4/26/2009             6:05 AM   \n",
       "74            7:00 AM           3/21/2014             8:00 AM   \n",
       "1483          6:00 AM            8/9/2004            12:00 PM   \n",
       "\n",
       "                              Respondent         Geographic Areas NERC Region  \\\n",
       "223                     ITC Transmission           Michigan, Iowa         MRO   \n",
       "93                           We Energies                Wisconsin         RFC   \n",
       "993   New Covert Generating Company, LLC       Southwest Michigan         RFC   \n",
       "74       Somerset Operating Company, LLC  Niagara County New York        NPCC   \n",
       "1483                  Salt River Project   Metro Phoenix, Arizona        WECC   \n",
       "\n",
       "     Demand Loss (MW) Number of Customers Affected  \\\n",
       "223           Unknown                      Unknown   \n",
       "93            Unknown                      Unknown   \n",
       "993               378                          NaN   \n",
       "74                675                      Unknown   \n",
       "1483                -                            -   \n",
       "\n",
       "                             Tags           TimeStart             TimeEnd  \\\n",
       "223              vandalism, cyber 2013-06-21 08:00:00 2013-10-30 14:00:00   \n",
       "93    fuel supply emergency, coal 2014-01-24 00:00:00 2014-04-09 11:00:00   \n",
       "993             equipment failure 2009-03-03 06:00:00 2009-04-26 06:00:00   \n",
       "74    fuel supply emergency, coal 2014-02-07 07:00:00 2014-03-21 08:00:00   \n",
       "1483     wild fire, public appeal 2004-07-06 06:00:00 2004-08-09 12:00:00   \n",
       "\n",
       "             TimeDelta  DayDiff  SecondDiff  \n",
       "223  131 days 06:00:00      131       21600  \n",
       "93    75 days 11:00:00       75       39600  \n",
       "993   54 days 00:00:00       54           0  \n",
       "74    42 days 01:00:00       42        3600  \n",
       "1483  34 days 06:00:00       34       21600  "
      ]
     },
     "execution_count": 41,
     "metadata": {},
     "output_type": "execute_result"
    }
   ],
   "source": [
    "df_timefilt2.sort_values('TimeDelta',ascending=False).head(5)"
   ]
  },
  {
   "cell_type": "code",
   "execution_count": 43,
   "metadata": {},
   "outputs": [
    {
     "data": {
      "image/png": "[encoded data removed]",
      "text/plain": [
       "<matplotlib.figure.Figure at 0x1179ba9b0>"
      ]
     },
     "metadata": {},
     "output_type": "display_data"
    }
   ],
   "source": [
    "ax = df_timefilt2.Year.hist(bins=len(df_timefilt2.Year.value_counts()),figsize=(7,7))\n",
    "ax.set_xlabel('Year');\n",
    "ax.set_ylabel('Count of Outages');"
   ]
  },
  {
   "cell_type": "markdown",
   "metadata": {},
   "source": [
    "Looking more closely at the specific events"
   ]
  },
  {
   "cell_type": "code",
   "execution_count": 44,
   "metadata": {},
   "outputs": [],
   "source": [
    "df_evtfilt = df.copy()\n",
    "df_evtfilt.Tags = [str(t) for t in df_evtfilt.Tags]"
   ]
  },
  {
   "cell_type": "code",
   "execution_count": 45,
   "metadata": {},
   "outputs": [],
   "source": [
    "all_tag_dict = {}\n",
    "for t in df_evtfilt.Tags:\n",
    "    try:\n",
    "        all_tags = t.split(',')\n",
    "    except Exception as e:\n",
    "        print(e)\n",
    "    for tags in all_tags:\n",
    "        newtag = tags.rstrip().lstrip()\n",
    "        all_tag_dict[newtag] = all_tag_dict.get(newtag,0) + 1"
   ]
  },
  {
   "cell_type": "code",
   "execution_count": 46,
   "metadata": {},
   "outputs": [
    {
     "data": {
      "text/html": [
       "<div>\n",
       "<style>\n",
       "    .dataframe thead tr:only-child th {\n",
       "        text-align: right;\n",
       "    }\n",
       "\n",
       "    .dataframe thead th {\n",
       "        text-align: left;\n",
       "    }\n",
       "\n",
       "    .dataframe tbody tr th {\n",
       "        vertical-align: top;\n",
       "    }\n",
       "</style>\n",
       "<table border=\"1\" class=\"dataframe\">\n",
       "  <thead>\n",
       "    <tr style=\"text-align: right;\">\n",
       "      <th></th>\n",
       "      <th>Count</th>\n",
       "    </tr>\n",
       "  </thead>\n",
       "  <tbody>\n",
       "    <tr>\n",
       "      <th>severe weather</th>\n",
       "      <td>866</td>\n",
       "    </tr>\n",
       "    <tr>\n",
       "      <th>vandalism</th>\n",
       "      <td>346</td>\n",
       "    </tr>\n",
       "    <tr>\n",
       "      <th>thunderstorm</th>\n",
       "      <td>226</td>\n",
       "    </tr>\n",
       "    <tr>\n",
       "      <th>physical</th>\n",
       "      <td>200</td>\n",
       "    </tr>\n",
       "    <tr>\n",
       "      <th>winter storm</th>\n",
       "      <td>155</td>\n",
       "    </tr>\n",
       "    <tr>\n",
       "      <th>load shedding</th>\n",
       "      <td>131</td>\n",
       "    </tr>\n",
       "    <tr>\n",
       "      <th>hurricane/tropical storm</th>\n",
       "      <td>114</td>\n",
       "    </tr>\n",
       "    <tr>\n",
       "      <th>public appeal</th>\n",
       "      <td>103</td>\n",
       "    </tr>\n",
       "    <tr>\n",
       "      <th>wind</th>\n",
       "      <td>95</td>\n",
       "    </tr>\n",
       "    <tr>\n",
       "      <th>equipment failure</th>\n",
       "      <td>62</td>\n",
       "    </tr>\n",
       "    <tr>\n",
       "      <th>storm</th>\n",
       "      <td>59</td>\n",
       "    </tr>\n",
       "    <tr>\n",
       "      <th>islanding</th>\n",
       "      <td>58</td>\n",
       "    </tr>\n",
       "    <tr>\n",
       "      <th>fuel supply emergency</th>\n",
       "      <td>58</td>\n",
       "    </tr>\n",
       "    <tr>\n",
       "      <th>voltage reduction</th>\n",
       "      <td>39</td>\n",
       "    </tr>\n",
       "    <tr>\n",
       "      <th>transmission interruption</th>\n",
       "      <td>31</td>\n",
       "    </tr>\n",
       "    <tr>\n",
       "      <th>wild fire</th>\n",
       "      <td>28</td>\n",
       "    </tr>\n",
       "    <tr>\n",
       "      <th>cold</th>\n",
       "      <td>25</td>\n",
       "    </tr>\n",
       "    <tr>\n",
       "      <th>coal</th>\n",
       "      <td>20</td>\n",
       "    </tr>\n",
       "    <tr>\n",
       "      <th>generator trip</th>\n",
       "      <td>19</td>\n",
       "    </tr>\n",
       "    <tr>\n",
       "      <th>cyber</th>\n",
       "      <td>14</td>\n",
       "    </tr>\n",
       "    <tr>\n",
       "      <th>rain</th>\n",
       "      <td>12</td>\n",
       "    </tr>\n",
       "    <tr>\n",
       "      <th>tornado</th>\n",
       "      <td>12</td>\n",
       "    </tr>\n",
       "    <tr>\n",
       "      <th>unknown</th>\n",
       "      <td>12</td>\n",
       "    </tr>\n",
       "    <tr>\n",
       "      <th>heat</th>\n",
       "      <td>12</td>\n",
       "    </tr>\n",
       "    <tr>\n",
       "      <th>natural gas</th>\n",
       "      <td>9</td>\n",
       "    </tr>\n",
       "    <tr>\n",
       "      <th>hydro</th>\n",
       "      <td>6</td>\n",
       "    </tr>\n",
       "    <tr>\n",
       "      <th>flooding</th>\n",
       "      <td>4</td>\n",
       "    </tr>\n",
       "    <tr>\n",
       "      <th>earthquake</th>\n",
       "      <td>4</td>\n",
       "    </tr>\n",
       "    <tr>\n",
       "      <th>distribution interruption</th>\n",
       "      <td>3</td>\n",
       "    </tr>\n",
       "    <tr>\n",
       "      <th>uncontrolled loss</th>\n",
       "      <td>3</td>\n",
       "    </tr>\n",
       "    <tr>\n",
       "      <th>hail</th>\n",
       "      <td>3</td>\n",
       "    </tr>\n",
       "    <tr>\n",
       "      <th>petroleum</th>\n",
       "      <td>1</td>\n",
       "    </tr>\n",
       "    <tr>\n",
       "      <th>energy deficiency alert</th>\n",
       "      <td>1</td>\n",
       "    </tr>\n",
       "    <tr>\n",
       "      <th>fog</th>\n",
       "      <td>1</td>\n",
       "    </tr>\n",
       "    <tr>\n",
       "      <th>dust</th>\n",
       "      <td>1</td>\n",
       "    </tr>\n",
       "    <tr>\n",
       "      <th>nan</th>\n",
       "      <td>1</td>\n",
       "    </tr>\n",
       "    <tr>\n",
       "      <th>breaker trip</th>\n",
       "      <td>1</td>\n",
       "    </tr>\n",
       "    <tr>\n",
       "      <th>low flying helicopter</th>\n",
       "      <td>1</td>\n",
       "    </tr>\n",
       "  </tbody>\n",
       "</table>\n",
       "</div>"
      ],
      "text/plain": [
       "                           Count\n",
       "severe weather               866\n",
       "vandalism                    346\n",
       "thunderstorm                 226\n",
       "physical                     200\n",
       "winter storm                 155\n",
       "load shedding                131\n",
       "hurricane/tropical storm     114\n",
       "public appeal                103\n",
       "wind                          95\n",
       "equipment failure             62\n",
       "storm                         59\n",
       "islanding                     58\n",
       "fuel supply emergency         58\n",
       "voltage reduction             39\n",
       "transmission interruption     31\n",
       "wild fire                     28\n",
       "cold                          25\n",
       "coal                          20\n",
       "generator trip                19\n",
       "cyber                         14\n",
       "rain                          12\n",
       "tornado                       12\n",
       "unknown                       12\n",
       "heat                          12\n",
       "natural gas                    9\n",
       "hydro                          6\n",
       "flooding                       4\n",
       "earthquake                     4\n",
       "distribution interruption      3\n",
       "uncontrolled loss              3\n",
       "hail                           3\n",
       "petroleum                      1\n",
       "energy deficiency alert        1\n",
       "fog                            1\n",
       "dust                           1\n",
       "nan                            1\n",
       "breaker trip                   1\n",
       "low flying helicopter          1"
      ]
     },
     "execution_count": 46,
     "metadata": {},
     "output_type": "execute_result"
    }
   ],
   "source": [
    "df_events = pd.DataFrame.from_dict(all_tag_dict,orient='index')\n",
    "df_events.columns = ['Count']\n",
    "df_events.sort_values('Count',ascending=False)"
   ]
  },
  {
   "cell_type": "code",
   "execution_count": 47,
   "metadata": {},
   "outputs": [
    {
     "data": {
      "image/png": "[encoded data removed]",
      "text/plain": [
       "<matplotlib.figure.Figure at 0x117fbae80>"
      ]
     },
     "metadata": {},
     "output_type": "display_data"
    }
   ],
   "source": [
    "fig,ax = plt.subplots(figsize=(15,5))\n",
    "plt.bar(range(len(df_events)),df_events.sort_values('Count',ascending=False).Count.values, align='center')\n",
    "plt.xticks(range(len(df_events)), \n",
    "           df_events.sort_values('Count',ascending=False).index, rotation='vertical',fontsize=14);"
   ]
  },
  {
   "cell_type": "markdown",
   "metadata": {},
   "source": [
    "Trying to see which states have the worst grid (in terms of outages and reliability)"
   ]
  },
  {
   "cell_type": "code",
   "execution_count": 56,
   "metadata": {},
   "outputs": [
    {
     "name": "stderr",
     "output_type": "stream",
     "text": [
      "/usr/local/lib/python3.5/site-packages/ipykernel_launcher.py:3: SettingWithCopyWarning: \n",
      "A value is trying to be set on a copy of a slice from a DataFrame.\n",
      "Try using .loc[row_indexer,col_indexer] = value instead\n",
      "\n",
      "See the caveats in the documentation: http://pandas.pydata.org/pandas-docs/stable/indexing.html#indexing-view-versus-copy\n",
      "  This is separate from the ipykernel package so we can avoid doing imports until\n"
     ]
    }
   ],
   "source": [
    "df_evtfilt['MCFlag'] = [1 if 'severe weather' in t else 0 for t in df_evtfilt.Tags]\n",
    "df_regionfilt = df_evtfilt[df_evtfilt.MCFlag == 1]\n",
    "df_regionfilt['Geographic Areas'] = [g.lower() for g in df_regionfilt['Geographic Areas']];"
   ]
  },
  {
   "cell_type": "code",
   "execution_count": 57,
   "metadata": {},
   "outputs": [],
   "source": [
    "all_region_dict = {}\n",
    "for g in df_regionfilt['Geographic Areas']:\n",
    "    try:\n",
    "        all_locs = g.split(',')\n",
    "    except Exception as e:\n",
    "        print(e)\n",
    "    for locs in all_locs:\n",
    "        newloc = locs.rstrip().lstrip()\n",
    "        all_region_dict[newloc] = all_region_dict.get(newloc,0) + 1"
   ]
  },
  {
   "cell_type": "code",
   "execution_count": 58,
   "metadata": {},
   "outputs": [],
   "source": [
    "# from http://code.activestate.com/recipes/577305-python-dictionary-of-us-states-and-territories/\n",
    "allstates = {\n",
    "        'AK': 'Alaska',\n",
    "        'AL': 'Alabama',\n",
    "        'AR': 'Arkansas',\n",
    "        'AS': 'American Samoa',\n",
    "        'AZ': 'Arizona',\n",
    "        'CA': 'California',\n",
    "        'CO': 'Colorado',\n",
    "        'CT': 'Connecticut',\n",
    "        'DC': 'District of Columbia',\n",
    "        'DE': 'Delaware',\n",
    "        'FL': 'Florida',\n",
    "        'GA': 'Georgia',\n",
    "        'GU': 'Guam',\n",
    "        'HI': 'Hawaii',\n",
    "        'IA': 'Iowa',\n",
    "        'ID': 'Idaho',\n",
    "        'IL': 'Illinois',\n",
    "        'IN': 'Indiana',\n",
    "        'KS': 'Kansas',\n",
    "        'KY': 'Kentucky',\n",
    "        'LA': 'Louisiana',\n",
    "        'MA': 'Massachusetts',\n",
    "        'MD': 'Maryland',\n",
    "        'ME': 'Maine',\n",
    "        'MI': 'Michigan',\n",
    "        'MN': 'Minnesota',\n",
    "        'MO': 'Missouri',\n",
    "        'MP': 'Northern Mariana Islands',\n",
    "        'MS': 'Mississippi',\n",
    "        'MT': 'Montana',\n",
    "        'NA': 'National',\n",
    "        'NC': 'North Carolina',\n",
    "        'ND': 'North Dakota',\n",
    "        'NE': 'Nebraska',\n",
    "        'NH': 'New Hampshire',\n",
    "        'NJ': 'New Jersey',\n",
    "        'NM': 'New Mexico',\n",
    "        'NV': 'Nevada',\n",
    "        'NY': 'New York',\n",
    "        'OH': 'Ohio',\n",
    "        'OK': 'Oklahoma',\n",
    "        'OR': 'Oregon',\n",
    "        'PA': 'Pennsylvania',\n",
    "        'PR': 'Puerto Rico',\n",
    "        'RI': 'Rhode Island',\n",
    "        'SC': 'South Carolina',\n",
    "        'SD': 'South Dakota',\n",
    "        'TN': 'Tennessee',\n",
    "        'TX': 'Texas',\n",
    "        'UT': 'Utah',\n",
    "        'VA': 'Virginia',\n",
    "        'VI': 'Virgin Islands',\n",
    "        'VT': 'Vermont',\n",
    "        'WA': 'Washington',\n",
    "        'WI': 'Wisconsin',\n",
    "        'WV': 'West Virginia',\n",
    "        'WY': 'Wyoming'\n",
    "}"
   ]
  },
  {
   "cell_type": "code",
   "execution_count": 59,
   "metadata": {},
   "outputs": [],
   "source": [
    "states = [s.lower() for s in allstates.values()]"
   ]
  },
  {
   "cell_type": "code",
   "execution_count": 60,
   "metadata": {},
   "outputs": [],
   "source": [
    "all_region_dict = {}\n",
    "for g in df_regionfilt['Geographic Areas']:\n",
    "    for s in states:\n",
    "        if s in g:\n",
    "            all_region_dict[s] = all_region_dict.get(s,0) + 1"
   ]
  },
  {
   "cell_type": "code",
   "execution_count": 61,
   "metadata": {},
   "outputs": [
    {
     "data": {
      "text/html": [
       "<div>\n",
       "<style>\n",
       "    .dataframe thead tr:only-child th {\n",
       "        text-align: right;\n",
       "    }\n",
       "\n",
       "    .dataframe thead th {\n",
       "        text-align: left;\n",
       "    }\n",
       "\n",
       "    .dataframe tbody tr th {\n",
       "        vertical-align: top;\n",
       "    }\n",
       "</style>\n",
       "<table border=\"1\" class=\"dataframe\">\n",
       "  <thead>\n",
       "    <tr style=\"text-align: right;\">\n",
       "      <th></th>\n",
       "      <th>Count</th>\n",
       "    </tr>\n",
       "  </thead>\n",
       "  <tbody>\n",
       "    <tr>\n",
       "      <th>michigan</th>\n",
       "      <td>79</td>\n",
       "    </tr>\n",
       "    <tr>\n",
       "      <th>virginia</th>\n",
       "      <td>69</td>\n",
       "    </tr>\n",
       "    <tr>\n",
       "      <th>pennsylvania</th>\n",
       "      <td>57</td>\n",
       "    </tr>\n",
       "    <tr>\n",
       "      <th>texas</th>\n",
       "      <td>52</td>\n",
       "    </tr>\n",
       "    <tr>\n",
       "      <th>ohio</th>\n",
       "      <td>52</td>\n",
       "    </tr>\n",
       "    <tr>\n",
       "      <th>maryland</th>\n",
       "      <td>48</td>\n",
       "    </tr>\n",
       "    <tr>\n",
       "      <th>indiana</th>\n",
       "      <td>47</td>\n",
       "    </tr>\n",
       "    <tr>\n",
       "      <th>north carolina</th>\n",
       "      <td>47</td>\n",
       "    </tr>\n",
       "    <tr>\n",
       "      <th>illinois</th>\n",
       "      <td>43</td>\n",
       "    </tr>\n",
       "    <tr>\n",
       "      <th>california</th>\n",
       "      <td>42</td>\n",
       "    </tr>\n",
       "    <tr>\n",
       "      <th>georgia</th>\n",
       "      <td>41</td>\n",
       "    </tr>\n",
       "    <tr>\n",
       "      <th>florida</th>\n",
       "      <td>38</td>\n",
       "    </tr>\n",
       "    <tr>\n",
       "      <th>alabama</th>\n",
       "      <td>37</td>\n",
       "    </tr>\n",
       "    <tr>\n",
       "      <th>new york</th>\n",
       "      <td>34</td>\n",
       "    </tr>\n",
       "    <tr>\n",
       "      <th>louisiana</th>\n",
       "      <td>31</td>\n",
       "    </tr>\n",
       "    <tr>\n",
       "      <th>kansas</th>\n",
       "      <td>28</td>\n",
       "    </tr>\n",
       "    <tr>\n",
       "      <th>mississippi</th>\n",
       "      <td>27</td>\n",
       "    </tr>\n",
       "    <tr>\n",
       "      <th>kentucky</th>\n",
       "      <td>27</td>\n",
       "    </tr>\n",
       "    <tr>\n",
       "      <th>west virginia</th>\n",
       "      <td>27</td>\n",
       "    </tr>\n",
       "    <tr>\n",
       "      <th>washington</th>\n",
       "      <td>25</td>\n",
       "    </tr>\n",
       "    <tr>\n",
       "      <th>arkansas</th>\n",
       "      <td>25</td>\n",
       "    </tr>\n",
       "    <tr>\n",
       "      <th>tennessee</th>\n",
       "      <td>25</td>\n",
       "    </tr>\n",
       "    <tr>\n",
       "      <th>south carolina</th>\n",
       "      <td>23</td>\n",
       "    </tr>\n",
       "    <tr>\n",
       "      <th>new jersey</th>\n",
       "      <td>21</td>\n",
       "    </tr>\n",
       "    <tr>\n",
       "      <th>missouri</th>\n",
       "      <td>17</td>\n",
       "    </tr>\n",
       "    <tr>\n",
       "      <th>delaware</th>\n",
       "      <td>16</td>\n",
       "    </tr>\n",
       "    <tr>\n",
       "      <th>minnesota</th>\n",
       "      <td>13</td>\n",
       "    </tr>\n",
       "    <tr>\n",
       "      <th>oklahoma</th>\n",
       "      <td>13</td>\n",
       "    </tr>\n",
       "    <tr>\n",
       "      <th>connecticut</th>\n",
       "      <td>13</td>\n",
       "    </tr>\n",
       "    <tr>\n",
       "      <th>massachusetts</th>\n",
       "      <td>12</td>\n",
       "    </tr>\n",
       "    <tr>\n",
       "      <th>maine</th>\n",
       "      <td>12</td>\n",
       "    </tr>\n",
       "    <tr>\n",
       "      <th>wisconsin</th>\n",
       "      <td>9</td>\n",
       "    </tr>\n",
       "    <tr>\n",
       "      <th>district of columbia</th>\n",
       "      <td>9</td>\n",
       "    </tr>\n",
       "    <tr>\n",
       "      <th>oregon</th>\n",
       "      <td>5</td>\n",
       "    </tr>\n",
       "    <tr>\n",
       "      <th>new hampshire</th>\n",
       "      <td>5</td>\n",
       "    </tr>\n",
       "    <tr>\n",
       "      <th>iowa</th>\n",
       "      <td>5</td>\n",
       "    </tr>\n",
       "    <tr>\n",
       "      <th>rhode island</th>\n",
       "      <td>4</td>\n",
       "    </tr>\n",
       "    <tr>\n",
       "      <th>puerto rico</th>\n",
       "      <td>3</td>\n",
       "    </tr>\n",
       "    <tr>\n",
       "      <th>nebraska</th>\n",
       "      <td>3</td>\n",
       "    </tr>\n",
       "    <tr>\n",
       "      <th>north dakota</th>\n",
       "      <td>3</td>\n",
       "    </tr>\n",
       "    <tr>\n",
       "      <th>south dakota</th>\n",
       "      <td>2</td>\n",
       "    </tr>\n",
       "    <tr>\n",
       "      <th>hawaii</th>\n",
       "      <td>2</td>\n",
       "    </tr>\n",
       "    <tr>\n",
       "      <th>idaho</th>\n",
       "      <td>2</td>\n",
       "    </tr>\n",
       "    <tr>\n",
       "      <th>colorado</th>\n",
       "      <td>2</td>\n",
       "    </tr>\n",
       "    <tr>\n",
       "      <th>arizona</th>\n",
       "      <td>1</td>\n",
       "    </tr>\n",
       "    <tr>\n",
       "      <th>wyoming</th>\n",
       "      <td>1</td>\n",
       "    </tr>\n",
       "    <tr>\n",
       "      <th>montana</th>\n",
       "      <td>1</td>\n",
       "    </tr>\n",
       "    <tr>\n",
       "      <th>utah</th>\n",
       "      <td>1</td>\n",
       "    </tr>\n",
       "    <tr>\n",
       "      <th>new mexico</th>\n",
       "      <td>1</td>\n",
       "    </tr>\n",
       "  </tbody>\n",
       "</table>\n",
       "</div>"
      ],
      "text/plain": [
       "                      Count\n",
       "michigan                 79\n",
       "virginia                 69\n",
       "pennsylvania             57\n",
       "texas                    52\n",
       "ohio                     52\n",
       "maryland                 48\n",
       "indiana                  47\n",
       "north carolina           47\n",
       "illinois                 43\n",
       "california               42\n",
       "georgia                  41\n",
       "florida                  38\n",
       "alabama                  37\n",
       "new york                 34\n",
       "louisiana                31\n",
       "kansas                   28\n",
       "mississippi              27\n",
       "kentucky                 27\n",
       "west virginia            27\n",
       "washington               25\n",
       "arkansas                 25\n",
       "tennessee                25\n",
       "south carolina           23\n",
       "new jersey               21\n",
       "missouri                 17\n",
       "delaware                 16\n",
       "minnesota                13\n",
       "oklahoma                 13\n",
       "connecticut              13\n",
       "massachusetts            12\n",
       "maine                    12\n",
       "wisconsin                 9\n",
       "district of columbia      9\n",
       "oregon                    5\n",
       "new hampshire             5\n",
       "iowa                      5\n",
       "rhode island              4\n",
       "puerto rico               3\n",
       "nebraska                  3\n",
       "north dakota              3\n",
       "south dakota              2\n",
       "hawaii                    2\n",
       "idaho                     2\n",
       "colorado                  2\n",
       "arizona                   1\n",
       "wyoming                   1\n",
       "montana                   1\n",
       "utah                      1\n",
       "new mexico                1"
      ]
     },
     "execution_count": 61,
     "metadata": {},
     "output_type": "execute_result"
    }
   ],
   "source": [
    "df_states = pd.DataFrame.from_dict(all_region_dict,orient='index')\n",
    "df_states.columns = ['Count']\n",
    "df_states.sort_values('Count',ascending=False)"
   ]
  },
  {
   "cell_type": "code",
   "execution_count": 62,
   "metadata": {},
   "outputs": [
    {
     "data": {
      "text/plain": [
       "1100"
      ]
     },
     "execution_count": 62,
     "metadata": {},
     "output_type": "execute_result"
    }
   ],
   "source": [
    "df_states.Count.sum()"
   ]
  },
  {
   "cell_type": "code",
   "execution_count": 63,
   "metadata": {},
   "outputs": [
    {
     "data": {
      "image/png": "[encoded data removed]",
      "text/plain": [
       "<matplotlib.figure.Figure at 0x1181325c0>"
      ]
     },
     "metadata": {},
     "output_type": "display_data"
    }
   ],
   "source": [
    "fig, ax = plt.subplots(figsize=(15,5))\n",
    "plt.bar(range(len(df_states[0:10])), df_states.sort_values('Count',ascending=False).Count.values[0:10], align='center')\n",
    "plt.xticks(range(len(df_states[0:10])), df_states.sort_values('Count',ascending=False).index[0:10],rotation='vertical',fontsize=14)\n",
    "ax.set_ylabel('Number of Outages')\n",
    "ax.set_title('Top 10 States With Recorded Utility Outages');"
   ]
  },
  {
   "cell_type": "markdown",
   "metadata": {},
   "source": [
    "Now let's see if we can build a simple regression model for outages over time"
   ]
  },
  {
   "cell_type": "code",
   "execution_count": 64,
   "metadata": {},
   "outputs": [
    {
     "name": "stderr",
     "output_type": "stream",
     "text": [
      "/usr/local/lib/python3.5/site-packages/ipykernel_launcher.py:9: SettingWithCopyWarning: \n",
      "A value is trying to be set on a copy of a slice from a DataFrame.\n",
      "Try using .loc[row_indexer,col_indexer] = value instead\n",
      "\n",
      "See the caveats in the documentation: http://pandas.pydata.org/pandas-docs/stable/indexing.html#indexing-view-versus-copy\n",
      "  if __name__ == '__main__':\n"
     ]
    }
   ],
   "source": [
    "df_cust = df_timefilt2[df_timefilt2['Number of Customers Affected'] != 'Unknown']\n",
    "affect = []\n",
    "for n in df_cust['Number of Customers Affected']:\n",
    "    try:\n",
    "        n = n.replace(',','')\n",
    "        affect.append(int(n))\n",
    "    except:\n",
    "        affect.append(0)\n",
    "df_cust['Affect'] = affect\n",
    "df_cust = df_cust[df_cust.Affect != 0]\n",
    "f = {'Year':'count','Affect':'sum'}\n",
    "df_cust_agg = df_cust.groupby(['Year']).agg(f)"
   ]
  },
  {
   "cell_type": "code",
   "execution_count": 65,
   "metadata": {},
   "outputs": [
    {
     "name": "stdout",
     "output_type": "stream",
     "text": [
      "largest outage event impacted: 4645572 people\n"
     ]
    }
   ],
   "source": [
    "print('largest outage event impacted: {0} people'.format(np.max(affect)))"
   ]
  },
  {
   "cell_type": "code",
   "execution_count": 66,
   "metadata": {},
   "outputs": [
    {
     "data": {
      "text/html": [
       "<div>\n",
       "<style>\n",
       "    .dataframe thead tr:only-child th {\n",
       "        text-align: right;\n",
       "    }\n",
       "\n",
       "    .dataframe thead th {\n",
       "        text-align: left;\n",
       "    }\n",
       "\n",
       "    .dataframe tbody tr th {\n",
       "        vertical-align: top;\n",
       "    }\n",
       "</style>\n",
       "<table border=\"1\" class=\"dataframe\">\n",
       "  <thead>\n",
       "    <tr style=\"text-align: right;\">\n",
       "      <th></th>\n",
       "      <th>Count of outages</th>\n",
       "      <th>Sum of customers impacted</th>\n",
       "    </tr>\n",
       "    <tr>\n",
       "      <th>Year</th>\n",
       "      <th></th>\n",
       "      <th></th>\n",
       "    </tr>\n",
       "  </thead>\n",
       "  <tbody>\n",
       "    <tr>\n",
       "      <th>2000</th>\n",
       "      <td>18</td>\n",
       "      <td>1707081</td>\n",
       "    </tr>\n",
       "    <tr>\n",
       "      <th>2001</th>\n",
       "      <td>5</td>\n",
       "      <td>1299490</td>\n",
       "    </tr>\n",
       "    <tr>\n",
       "      <th>2002</th>\n",
       "      <td>14</td>\n",
       "      <td>4882586</td>\n",
       "    </tr>\n",
       "    <tr>\n",
       "      <th>2003</th>\n",
       "      <td>38</td>\n",
       "      <td>12253810</td>\n",
       "    </tr>\n",
       "    <tr>\n",
       "      <th>2004</th>\n",
       "      <td>69</td>\n",
       "      <td>16958409</td>\n",
       "    </tr>\n",
       "    <tr>\n",
       "      <th>2005</th>\n",
       "      <td>57</td>\n",
       "      <td>16330113</td>\n",
       "    </tr>\n",
       "    <tr>\n",
       "      <th>2006</th>\n",
       "      <td>71</td>\n",
       "      <td>12240112</td>\n",
       "    </tr>\n",
       "    <tr>\n",
       "      <th>2007</th>\n",
       "      <td>47</td>\n",
       "      <td>6784818</td>\n",
       "    </tr>\n",
       "    <tr>\n",
       "      <th>2008</th>\n",
       "      <td>119</td>\n",
       "      <td>26066176</td>\n",
       "    </tr>\n",
       "    <tr>\n",
       "      <th>2009</th>\n",
       "      <td>72</td>\n",
       "      <td>9361988</td>\n",
       "    </tr>\n",
       "    <tr>\n",
       "      <th>2010</th>\n",
       "      <td>86</td>\n",
       "      <td>11595444</td>\n",
       "    </tr>\n",
       "    <tr>\n",
       "      <th>2011</th>\n",
       "      <td>148</td>\n",
       "      <td>25402205</td>\n",
       "    </tr>\n",
       "    <tr>\n",
       "      <th>2012</th>\n",
       "      <td>87</td>\n",
       "      <td>22638225</td>\n",
       "    </tr>\n",
       "    <tr>\n",
       "      <th>2013</th>\n",
       "      <td>70</td>\n",
       "      <td>7891024</td>\n",
       "    </tr>\n",
       "    <tr>\n",
       "      <th>2014</th>\n",
       "      <td>33</td>\n",
       "      <td>11383302</td>\n",
       "    </tr>\n",
       "  </tbody>\n",
       "</table>\n",
       "</div>"
      ],
      "text/plain": [
       "      Count of outages  Sum of customers impacted\n",
       "Year                                             \n",
       "2000                18                    1707081\n",
       "2001                 5                    1299490\n",
       "2002                14                    4882586\n",
       "2003                38                   12253810\n",
       "2004                69                   16958409\n",
       "2005                57                   16330113\n",
       "2006                71                   12240112\n",
       "2007                47                    6784818\n",
       "2008               119                   26066176\n",
       "2009                72                    9361988\n",
       "2010                86                   11595444\n",
       "2011               148                   25402205\n",
       "2012                87                   22638225\n",
       "2013                70                    7891024\n",
       "2014                33                   11383302"
      ]
     },
     "execution_count": 66,
     "metadata": {},
     "output_type": "execute_result"
    }
   ],
   "source": [
    "df_cust_agg.rename(columns={'Year':'Count of outages','Affect':'Sum of customers impacted'},inplace=True)\n",
    "df_cust_agg"
   ]
  },
  {
   "cell_type": "code",
   "execution_count": 67,
   "metadata": {},
   "outputs": [
    {
     "name": "stderr",
     "output_type": "stream",
     "text": [
      "/usr/local/lib/python3.5/site-packages/scipy/linalg/basic.py:1018: RuntimeWarning: internal gelsd driver lwork query error, required iwork dimension not returned. This is likely the result of LAPACK bug 0038, fixed in LAPACK 3.2.2 (released July 21, 2010). Falling back to 'gelss' driver.\n",
      "  warnings.warn(mesg, RuntimeWarning)\n"
     ]
    },
    {
     "data": {
      "text/plain": [
       "LinearRegression(copy_X=True, fit_intercept=True, n_jobs=1, normalize=False)"
      ]
     },
     "execution_count": 67,
     "metadata": {},
     "output_type": "execute_result"
    }
   ],
   "source": [
    "X = df_cust_agg.index.values\n",
    "Y = df_cust_agg['Sum of customers impacted'].values\n",
    "length = len(X)\n",
    "x = X.reshape(length,1)\n",
    "y = Y.reshape(length,1)\n",
    "regr = linear_model.LinearRegression()\n",
    "regr.fit(x, y)"
   ]
  },
  {
   "cell_type": "code",
   "execution_count": 68,
   "metadata": {},
   "outputs": [
    {
     "data": {
      "image/png": "[encoded data removed]",
      "text/plain": [
       "<matplotlib.figure.Figure at 0x1181405f8>"
      ]
     },
     "metadata": {},
     "output_type": "display_data"
    }
   ],
   "source": [
    "fig,ax = plt.subplots(figsize=(8,6))\n",
    "plt.scatter(x, y, color='black')\n",
    "plt.plot(x, regr.predict(x), color='blue', linewidth=3)\n",
    "ax.set_ylabel('Number of customers impacted by outage')\n",
    "ax.yaxis.set_major_formatter(mpl.ticker.StrMethodFormatter('{x:,.0f}'))\n",
    "ax.set_title('Regression Fit of Utility Outage Data, R-Squared: {0}'.format(np.round(regr.score(x,y),2)));"
   ]
  },
  {
   "cell_type": "markdown",
   "metadata": {},
   "source": [
    "The linear regression does not fit the data well. However, even without the linear fit it _does_ look like there is a slight upward trend. This could be a result of bias in data recording / cleaning. For example, perhaps in the early years of our dataset (2000, 2001..) utilities did not report actual outages as often. Or perhaps the utility coverage in the early years of the dataset was lower than the later years.\n",
    "\n",
    "Alternativley, it could reveal an alarming increase in grid vulnerability. We should try to normalize this against the population growth in the US for the same time range."
   ]
  },
  {
   "cell_type": "markdown",
   "metadata": {},
   "source": [
    "Finally, let's try to plot the data on a map by NERC region.."
   ]
  },
  {
   "cell_type": "code",
   "execution_count": 69,
   "metadata": {},
   "outputs": [],
   "source": [
    "url = 'https://public.opendatasoft.com/api/records/1.0/search/?dataset=nerc-regions'\n",
    "r = requests.get(url)\n",
    "if r.status_code == 200:\n",
    "    records = r.json()\n",
    "else:\n",
    "    print('bad request: {}'.format(r.status_code))"
   ]
  },
  {
   "cell_type": "code",
   "execution_count": 70,
   "metadata": {},
   "outputs": [
    {
     "name": "stderr",
     "output_type": "stream",
     "text": [
      "/usr/local/lib/python3.5/site-packages/ipykernel_launcher.py:5: DeprecationWarning: \n",
      ".ix is deprecated. Please use\n",
      ".loc for label based indexing or\n",
      ".iloc for positional indexing\n",
      "\n",
      "See the documentation here:\n",
      "http://pandas.pydata.org/pandas-docs/stable/indexing.html#ix-indexer-is-deprecated\n",
      "  \"\"\"\n"
     ]
    }
   ],
   "source": [
    "center = [r['fields']['geo_point_2d'] for r in records['records'] if len(r['fields']) > 2]\n",
    "nerc_reg = df_timefilt2.groupby('NERC Region')['NERC Region'].count()\n",
    "nerc_dict = {}\n",
    "for n in nerc_reg.index:\n",
    "    nerc_dict[n] = nerc_reg.ix[n];\n",
    "nerc_regions = [r['fields']['nerc'] for r in records['records'] if len(r['fields']) > 2]\n",
    "polys = [r['fields']['geo_shape'] for r in records['records'] if len(r['fields']) > 2]\n",
    "nerc_value = [nerc_dict[n] for n in nerc_regions]\n",
    "minima = min(nerc_value)\n",
    "maxima = max(nerc_value)\n",
    "norm = Normalize(vmin=minima, vmax=maxima)\n",
    "mapper = cm.ScalarMappable(norm=norm, cmap=cm.Reds)\n",
    "cols = []\n",
    "for v in (nerc_value):\n",
    "    cols.append(mapper.to_rgba(v))"
   ]
  },
  {
   "cell_type": "code",
   "execution_count": 71,
   "metadata": {},
   "outputs": [
    {
     "data": {
      "image/png": "[encoded data removed]",
      "text/plain": [
       "<matplotlib.figure.Figure at 0x118127da0>"
      ]
     },
     "metadata": {},
     "output_type": "display_data"
    }
   ],
   "source": [
    "fig, ax = plt.subplots(figsize=(15,15))\n",
    "cmap = plt.get_cmap('Blues')\n",
    "\n",
    "for p,c,nr,nv,cent in zip(polys,cols,nerc_regions,nerc_value,center):\n",
    "    lab = nr + ': ' + str(nv)\n",
    "    ax = fig.gca() \n",
    "    ax.add_patch(PolygonPatch(p, fc=c, alpha=0.5, zorder=2,label=lab))\n",
    "    ax.axis('scaled')\n",
    "    plt.text(cent[1],cent[0],nr)\n",
    "plt.legend(loc = 0)\n",
    "plt.title('Recorded Outages Per NERC Region 2000 - 2014')\n",
    "plt.show()"
   ]
  },
  {
   "cell_type": "markdown",
   "metadata": {
    "collapsed": true
   },
   "source": [
    "Clearing some missing regions. In order to do this plot we need to know where the NERC regions are in terms of latitude and longitude. I thought I struck gold here: https://public.opendatasoft.com/api/records/1.0/search/?dataset=nerc-regions, however it ended up missing a few of the regions. The goal above was to see how the NERC regions compare to each other in terms of reliability, however we should probably normalize this by customers per region or customers per region area before making any conclusions.\n",
    "\n",
    "Either way, the above turned out to be an interesting exercise in using the PolygonPatch module from descartes to plot data onto co-ordinates. "
   ]
  },
  {
   "cell_type": "code",
   "execution_count": null,
   "metadata": {},
   "outputs": [],
   "source": []
  }
 ],
 "metadata": {
  "kernelspec": {
   "display_name": "Python 3",
   "language": "python",
   "name": "python3"
  },
  "language_info": {
   "codemirror_mode": {
    "name": "ipython",
    "version": 3
   },
   "file_extension": ".py",
   "mimetype": "text/x-python",
   "name": "python",
   "nbconvert_exporter": "python",
   "pygments_lexer": "ipython3",
   "version": "3.5.0"
  }
 },
 "nbformat": 4,
 "nbformat_minor": 1
}
